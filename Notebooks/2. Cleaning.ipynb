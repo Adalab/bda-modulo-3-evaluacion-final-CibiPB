{
 "cells": [
  {
   "cell_type": "code",
   "execution_count": 71,
   "metadata": {},
   "outputs": [],
   "source": [
    "import pandas as pd\n",
    "import numpy as np\n",
    "import re\n",
    "import seaborn as sns\n",
    "import matplotlib.pyplot as plt\n",
    "from src import support as sp\n",
    "from sklearn.experimental import enable_iterative_imputer  \n",
    "from sklearn.impute import IterativeImputer\n",
    "\n",
    "#pd.set_option('display.max_rows', None)\n",
    "pd.set_option('display.max_columns', None)\n",
    "\n",
    "df_flight = pd.read_csv('../Files/Customer Flight Activity.csv')\n",
    "df_loyalty = pd.read_csv('../Files/Customer Loyalty History.csv')"
   ]
  },
  {
   "cell_type": "code",
   "execution_count": 72,
   "metadata": {},
   "outputs": [
    {
     "name": "stdout",
     "output_type": "stream",
     "text": [
      "There were 405624 rows, and 1864 duplicated rows were deleted.\n",
      "New row count: 403760 rows\n",
      "--------\n",
      "There were 16737 rows, and 0 duplicated rows were deleted.\n",
      "New row count: 16737 rows\n"
     ]
    }
   ],
   "source": [
    "# REMOVING DUPLICATES IF ANY\n",
    "\n",
    "df_flight = sp.remove_duplicate_rows(df_flight)\n",
    "\n",
    "print('--------')\n",
    "\n",
    "df_loyalty = sp.remove_duplicate_rows(df_loyalty)"
   ]
  },
  {
   "cell_type": "code",
   "execution_count": 73,
   "metadata": {},
   "outputs": [
    {
     "data": {
      "text/plain": [
       "Loyalty Number          int64\n",
       "Country                object\n",
       "Province               object\n",
       "City                   object\n",
       "Postal Code            object\n",
       "Gender                 object\n",
       "Education              object\n",
       "Salary                float64\n",
       "Marital Status         object\n",
       "Loyalty Card           object\n",
       "CLV                   float64\n",
       "Enrollment Type        object\n",
       "Enrollment Year         int64\n",
       "Enrollment Month        int64\n",
       "Cancellation Year       Int64\n",
       "Cancellation Month      Int64\n",
       "dtype: object"
      ]
     },
     "execution_count": 73,
     "metadata": {},
     "output_type": "execute_result"
    }
   ],
   "source": [
    "# FLOAT TO INTEGER LOYALTY\n",
    "\n",
    "l_convert_to_int = ['Cancellation Year', 'Cancellation Month']\n",
    "\n",
    "\n",
    "df_loyalty = sp.float_to_integer (df_loyalty, l_convert_to_int)\n",
    "df_loyalty.dtypes # CONFIRMATION"
   ]
  },
  {
   "cell_type": "code",
   "execution_count": 74,
   "metadata": {},
   "outputs": [
    {
     "name": "stdout",
     "output_type": "stream",
     "text": [
      "Negative values in Salary are now: 0\n"
     ]
    }
   ],
   "source": [
    "# REMOVING NEGATIVE VALUES FROM SALARY\n",
    "\n",
    "df_loyalty['Salary'] = df_loyalty['Salary'].abs()\n",
    "\n",
    "print('Negative values in Salary are now:' ,(df_loyalty['Salary']  < 0).sum())\n"
   ]
  },
  {
   "cell_type": "code",
   "execution_count": 75,
   "metadata": {},
   "outputs": [
    {
     "name": "stdout",
     "output_type": "stream",
     "text": [
      "Nulls in Salary are now:  0\n"
     ]
    }
   ],
   "source": [
    "# FILLING NULLS IN SALARY WITH ITERATIVE IMPUTER FOR MORE\n",
    "\n",
    "imputer = IterativeImputer(random_state=42) #RANDON_STATE SO THE RANDON IMPUTER WONT GENERATE A DIFFERENT IMPUTER WHEN EXECUTED\n",
    "\n",
    "df_loyalty['Salary'] = imputer.fit_transform(df_loyalty[['Salary']]) \n",
    "\n",
    "print('Nulls in Salary are now: ', df_loyalty['Salary'].isna().sum())\n"
   ]
  },
  {
   "cell_type": "code",
   "execution_count": 81,
   "metadata": {},
   "outputs": [
    {
     "data": {
      "text/html": [
       "<div>\n",
       "<style scoped>\n",
       "    .dataframe tbody tr th:only-of-type {\n",
       "        vertical-align: middle;\n",
       "    }\n",
       "\n",
       "    .dataframe tbody tr th {\n",
       "        vertical-align: top;\n",
       "    }\n",
       "\n",
       "    .dataframe thead th {\n",
       "        text-align: right;\n",
       "    }\n",
       "</style>\n",
       "<table border=\"1\" class=\"dataframe\">\n",
       "  <thead>\n",
       "    <tr style=\"text-align: right;\">\n",
       "      <th></th>\n",
       "      <th>count</th>\n",
       "      <th>mean</th>\n",
       "      <th>std</th>\n",
       "      <th>min</th>\n",
       "      <th>25%</th>\n",
       "      <th>50%</th>\n",
       "      <th>75%</th>\n",
       "      <th>max</th>\n",
       "    </tr>\n",
       "  </thead>\n",
       "  <tbody>\n",
       "    <tr>\n",
       "      <th>Loyalty Number</th>\n",
       "      <td>16737.0</td>\n",
       "      <td>549735.880445</td>\n",
       "      <td>258912.132453</td>\n",
       "      <td>100018.0</td>\n",
       "      <td>326603.0</td>\n",
       "      <td>550434.0</td>\n",
       "      <td>772019.0</td>\n",
       "      <td>999986.0</td>\n",
       "    </tr>\n",
       "    <tr>\n",
       "      <th>Salary</th>\n",
       "      <td>16737.0</td>\n",
       "      <td>79359.340907</td>\n",
       "      <td>30029.311812</td>\n",
       "      <td>9081.0</td>\n",
       "      <td>63899.0</td>\n",
       "      <td>79359.340907</td>\n",
       "      <td>82940.0</td>\n",
       "      <td>407228.0</td>\n",
       "    </tr>\n",
       "    <tr>\n",
       "      <th>CLV</th>\n",
       "      <td>16737.0</td>\n",
       "      <td>7988.896536</td>\n",
       "      <td>6860.98228</td>\n",
       "      <td>1898.01</td>\n",
       "      <td>3980.84</td>\n",
       "      <td>5780.18</td>\n",
       "      <td>8940.58</td>\n",
       "      <td>83325.38</td>\n",
       "    </tr>\n",
       "    <tr>\n",
       "      <th>Enrollment Year</th>\n",
       "      <td>16737.0</td>\n",
       "      <td>2015.253211</td>\n",
       "      <td>1.979111</td>\n",
       "      <td>2012.0</td>\n",
       "      <td>2014.0</td>\n",
       "      <td>2015.0</td>\n",
       "      <td>2017.0</td>\n",
       "      <td>2018.0</td>\n",
       "    </tr>\n",
       "    <tr>\n",
       "      <th>Enrollment Month</th>\n",
       "      <td>16737.0</td>\n",
       "      <td>6.669116</td>\n",
       "      <td>3.398958</td>\n",
       "      <td>1.0</td>\n",
       "      <td>4.0</td>\n",
       "      <td>7.0</td>\n",
       "      <td>10.0</td>\n",
       "      <td>12.0</td>\n",
       "    </tr>\n",
       "    <tr>\n",
       "      <th>Cancellation Year</th>\n",
       "      <td>2067.0</td>\n",
       "      <td>2016.503145</td>\n",
       "      <td>1.380743</td>\n",
       "      <td>2013.0</td>\n",
       "      <td>2016.0</td>\n",
       "      <td>2017.0</td>\n",
       "      <td>2018.0</td>\n",
       "      <td>2018.0</td>\n",
       "    </tr>\n",
       "    <tr>\n",
       "      <th>Cancellation Month</th>\n",
       "      <td>2067.0</td>\n",
       "      <td>6.962748</td>\n",
       "      <td>3.455297</td>\n",
       "      <td>1.0</td>\n",
       "      <td>4.0</td>\n",
       "      <td>7.0</td>\n",
       "      <td>10.0</td>\n",
       "      <td>12.0</td>\n",
       "    </tr>\n",
       "  </tbody>\n",
       "</table>\n",
       "</div>"
      ],
      "text/plain": [
       "                      count           mean            std       min       25%  \\\n",
       "Loyalty Number      16737.0  549735.880445  258912.132453  100018.0  326603.0   \n",
       "Salary              16737.0   79359.340907   30029.311812    9081.0   63899.0   \n",
       "CLV                 16737.0    7988.896536     6860.98228   1898.01   3980.84   \n",
       "Enrollment Year     16737.0    2015.253211       1.979111    2012.0    2014.0   \n",
       "Enrollment Month    16737.0       6.669116       3.398958       1.0       4.0   \n",
       "Cancellation Year    2067.0    2016.503145       1.380743    2013.0    2016.0   \n",
       "Cancellation Month   2067.0       6.962748       3.455297       1.0       4.0   \n",
       "\n",
       "                             50%       75%       max  \n",
       "Loyalty Number          550434.0  772019.0  999986.0  \n",
       "Salary              79359.340907   82940.0  407228.0  \n",
       "CLV                      5780.18   8940.58  83325.38  \n",
       "Enrollment Year           2015.0    2017.0    2018.0  \n",
       "Enrollment Month             7.0      10.0      12.0  \n",
       "Cancellation Year         2017.0    2018.0    2018.0  \n",
       "Cancellation Month           7.0      10.0      12.0  "
      ]
     },
     "execution_count": 81,
     "metadata": {},
     "output_type": "execute_result"
    }
   ],
   "source": [
    "# REVIEWING DESCRIPTIVE\n",
    "df_loyalty.describe().T"
   ]
  },
  {
   "cell_type": "code",
   "execution_count": 77,
   "metadata": {},
   "outputs": [],
   "source": [
    "# ADDING A CATEGORY COLUMN TO GROUP SALARY RANGES \n",
    "\n",
    "df_loyalty['Salary Scale'] = pd.cut(df_loyalty['Salary'],bins = 3, labels= ['Low', 'Medium', 'High']) # SETTING CATEGORIES TO GROUP AND COMPARE"
   ]
  },
  {
   "cell_type": "code",
   "execution_count": 78,
   "metadata": {},
   "outputs": [
    {
     "data": {
      "text/plain": [
       "(403760, 26)"
      ]
     },
     "execution_count": 78,
     "metadata": {},
     "output_type": "execute_result"
    }
   ],
   "source": [
    "# MERGING COLUMNS BASED ON LOYALTY NUMBER, USING A LEFT MERGE IN ORDER TO KEEP ALL THE FLIGHTS, AS THERE ARE MULTIPLE FLIGHTS TO THE SAME PASSENGER.\n",
    "\n",
    "df = df_flight.merge(df_loyalty, on= 'Loyalty Number', how= 'left')\n",
    "\n",
    "df.shape # CONFIRMING THE COLUMNS ADDED AND SAME ROW COUNT FROM df_flight"
   ]
  },
  {
   "cell_type": "code",
   "execution_count": 79,
   "metadata": {},
   "outputs": [
    {
     "name": "stdout",
     "output_type": "stream",
     "text": [
      "Files are now saved in the folde \"Files\", and ready to be analyzed\n"
     ]
    }
   ],
   "source": [
    "# SAVING CLEAN FILES, READY TO BE ANALYZED\n",
    "\n",
    "df.to_csv(\"../Files/full_data_clean.csv\", index=False)\n",
    "df_flight.to_csv(\"../Files/flight_clean.csv\", index=False)\n",
    "df_loyalty.to_csv(\"../Files/loyalty_clean.csv\", index=False)\n",
    "\n",
    "print('Files are now saved in the folde \"'\"Files\"'\", and ready to be analyzed')"
   ]
  },
  {
   "cell_type": "code",
   "execution_count": 80,
   "metadata": {},
   "outputs": [
    {
     "data": {
      "text/plain": [
       "Loyalty Number                      0\n",
       "Year                                0\n",
       "Month                               0\n",
       "Flights Booked                      0\n",
       "Flights with Companions             0\n",
       "Total Flights                       0\n",
       "Distance                            0\n",
       "Points Accumulated                  0\n",
       "Points Redeemed                     0\n",
       "Dollar Cost Points Redeemed         0\n",
       "Country                             0\n",
       "Province                            0\n",
       "City                                0\n",
       "Postal Code                         0\n",
       "Gender                              0\n",
       "Education                           0\n",
       "Salary                              0\n",
       "Marital Status                      0\n",
       "Loyalty Card                        0\n",
       "CLV                                 0\n",
       "Enrollment Type                     0\n",
       "Enrollment Year                     0\n",
       "Enrollment Month                    0\n",
       "Cancellation Year              354110\n",
       "Cancellation Month             354110\n",
       "Salary Scale                        0\n",
       "dtype: int64"
      ]
     },
     "execution_count": 80,
     "metadata": {},
     "output_type": "execute_result"
    }
   ],
   "source": [
    "# CONFIRMING NULLS ARE AS EXPECTED\n",
    "df.isnull().sum()"
   ]
  }
 ],
 "metadata": {
  "kernelspec": {
   "display_name": "base",
   "language": "python",
   "name": "python3"
  },
  "language_info": {
   "codemirror_mode": {
    "name": "ipython",
    "version": 3
   },
   "file_extension": ".py",
   "mimetype": "text/x-python",
   "name": "python",
   "nbconvert_exporter": "python",
   "pygments_lexer": "ipython3",
   "version": "3.12.7"
  }
 },
 "nbformat": 4,
 "nbformat_minor": 2
}
