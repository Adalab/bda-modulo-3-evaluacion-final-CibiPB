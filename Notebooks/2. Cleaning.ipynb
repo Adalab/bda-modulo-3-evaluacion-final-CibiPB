{
 "cells": [
  {
   "cell_type": "code",
   "execution_count": 14,
   "metadata": {},
   "outputs": [],
   "source": [
    "import pandas as pd\n",
    "import numpy as np\n",
    "import re\n",
    "import seaborn as sns\n",
    "import matplotlib.pyplot as plt\n",
    "from sklearn.impute import KNNImputer\n",
    "from src import support as sp\n",
    "\n",
    "\n",
    "\n",
    "#pd.set_option('display.max_rows', None)\n",
    "pd.set_option('display.max_columns', None)\n",
    "\n",
    "df_flight = pd.read_csv('../Files/Customer Flight Activity.csv')\n",
    "df_loyalty = pd.read_csv('../Files/Customer Loyalty History.csv')"
   ]
  },
  {
   "cell_type": "code",
   "execution_count": 15,
   "metadata": {},
   "outputs": [
    {
     "name": "stdout",
     "output_type": "stream",
     "text": [
      "There were 405624 rows, and 1864 duplicated rows were deleted.\n",
      "New row count: 403760 rows\n",
      "--------\n",
      "There were 16737 rows, and 0 duplicated rows were deleted.\n",
      "New row count: 16737 rows\n"
     ]
    }
   ],
   "source": [
    "# REMOVING DUPLICATES IF ANY\n",
    "\n",
    "df_flight = sp.remove_duplicate_rows(df_flight)\n",
    "\n",
    "print('--------')\n",
    "\n",
    "df_loyalty = sp.remove_duplicate_rows(df_loyalty)"
   ]
  },
  {
   "cell_type": "code",
   "execution_count": 16,
   "metadata": {},
   "outputs": [],
   "source": [
    "# FLOAT TO INTEGER FLIGHTS\n",
    "\n",
    "# f_convert_to_int = ['Year']\n",
    "# df_flight = sp.float_to_integer(df_flight, f_convert_to_int)\n",
    "# df_flight.dtypes "
   ]
  },
  {
   "cell_type": "code",
   "execution_count": 17,
   "metadata": {},
   "outputs": [
    {
     "data": {
      "text/plain": [
       "Loyalty Number          int64\n",
       "Country                object\n",
       "Province               object\n",
       "City                   object\n",
       "Postal Code            object\n",
       "Gender                 object\n",
       "Education              object\n",
       "Salary                float64\n",
       "Marital Status         object\n",
       "Loyalty Card           object\n",
       "CLV                   float64\n",
       "Enrollment Type        object\n",
       "Enrollment Year         int64\n",
       "Enrollment Month        int64\n",
       "Cancellation Year       Int64\n",
       "Cancellation Month      Int64\n",
       "dtype: object"
      ]
     },
     "execution_count": 17,
     "metadata": {},
     "output_type": "execute_result"
    }
   ],
   "source": [
    "# FLOAT TO INTEGER LOYALTY\n",
    "\n",
    "l_convert_to_int = ['Cancellation Year', 'Cancellation Month']\n",
    "\n",
    "\n",
    "df_loyalty = sp.float_to_integer (df_loyalty, l_convert_to_int)\n",
    "df_loyalty.dtypes # CONFIRMATION"
   ]
  },
  {
   "cell_type": "code",
   "execution_count": 18,
   "metadata": {},
   "outputs": [
    {
     "data": {
      "text/plain": [
       "9081.0"
      ]
     },
     "execution_count": 18,
     "metadata": {},
     "output_type": "execute_result"
    }
   ],
   "source": [
    "# REMOVING NEGATIVE VALUES FROM SALARY\n",
    "\n",
    "df_loyalty['Salary'] = df_loyalty['Salary'].abs()\n",
    "\n",
    "df_loyalty['Salary'].min() # CONFIRMATION\n"
   ]
  },
  {
   "cell_type": "code",
   "execution_count": 19,
   "metadata": {},
   "outputs": [
    {
     "data": {
      "text/plain": [
       "4238"
      ]
     },
     "execution_count": 19,
     "metadata": {},
     "output_type": "execute_result"
    }
   ],
   "source": [
    "df_loyalty['Salary'].isna().sum()"
   ]
  },
  {
   "cell_type": "code",
   "execution_count": 20,
   "metadata": {},
   "outputs": [
    {
     "data": {
      "text/html": [
       "<div>\n",
       "<style scoped>\n",
       "    .dataframe tbody tr th:only-of-type {\n",
       "        vertical-align: middle;\n",
       "    }\n",
       "\n",
       "    .dataframe tbody tr th {\n",
       "        vertical-align: top;\n",
       "    }\n",
       "\n",
       "    .dataframe thead th {\n",
       "        text-align: right;\n",
       "    }\n",
       "</style>\n",
       "<table border=\"1\" class=\"dataframe\">\n",
       "  <thead>\n",
       "    <tr style=\"text-align: right;\">\n",
       "      <th></th>\n",
       "      <th>Loyalty Number</th>\n",
       "      <th>Country</th>\n",
       "      <th>Province</th>\n",
       "      <th>City</th>\n",
       "      <th>Postal Code</th>\n",
       "      <th>Gender</th>\n",
       "      <th>Education</th>\n",
       "      <th>Salary</th>\n",
       "      <th>Marital Status</th>\n",
       "      <th>Loyalty Card</th>\n",
       "      <th>CLV</th>\n",
       "      <th>Enrollment Type</th>\n",
       "      <th>Enrollment Year</th>\n",
       "      <th>Enrollment Month</th>\n",
       "      <th>Cancellation Year</th>\n",
       "      <th>Cancellation Month</th>\n",
       "    </tr>\n",
       "  </thead>\n",
       "  <tbody>\n",
       "    <tr>\n",
       "      <th>8713</th>\n",
       "      <td>264733</td>\n",
       "      <td>Canada</td>\n",
       "      <td>Quebec</td>\n",
       "      <td>Montreal</td>\n",
       "      <td>H4G 3T4</td>\n",
       "      <td>Male</td>\n",
       "      <td>College</td>\n",
       "      <td>NaN</td>\n",
       "      <td>Single</td>\n",
       "      <td>Nova</td>\n",
       "      <td>10242.41</td>\n",
       "      <td>Standard</td>\n",
       "      <td>2014</td>\n",
       "      <td>4</td>\n",
       "      <td>&lt;NA&gt;</td>\n",
       "      <td>&lt;NA&gt;</td>\n",
       "    </tr>\n",
       "    <tr>\n",
       "      <th>14137</th>\n",
       "      <td>778030</td>\n",
       "      <td>Canada</td>\n",
       "      <td>Manitoba</td>\n",
       "      <td>Winnipeg</td>\n",
       "      <td>R6Y 4T5</td>\n",
       "      <td>Female</td>\n",
       "      <td>College</td>\n",
       "      <td>NaN</td>\n",
       "      <td>Single</td>\n",
       "      <td>Star</td>\n",
       "      <td>6227.37</td>\n",
       "      <td>Standard</td>\n",
       "      <td>2014</td>\n",
       "      <td>10</td>\n",
       "      <td>&lt;NA&gt;</td>\n",
       "      <td>&lt;NA&gt;</td>\n",
       "    </tr>\n",
       "    <tr>\n",
       "      <th>3289</th>\n",
       "      <td>728386</td>\n",
       "      <td>Canada</td>\n",
       "      <td>Quebec</td>\n",
       "      <td>Quebec City</td>\n",
       "      <td>G1B 3L5</td>\n",
       "      <td>Male</td>\n",
       "      <td>College</td>\n",
       "      <td>NaN</td>\n",
       "      <td>Single</td>\n",
       "      <td>Aurora</td>\n",
       "      <td>11836.30</td>\n",
       "      <td>Standard</td>\n",
       "      <td>2018</td>\n",
       "      <td>10</td>\n",
       "      <td>&lt;NA&gt;</td>\n",
       "      <td>&lt;NA&gt;</td>\n",
       "    </tr>\n",
       "    <tr>\n",
       "      <th>5580</th>\n",
       "      <td>219043</td>\n",
       "      <td>Canada</td>\n",
       "      <td>Quebec</td>\n",
       "      <td>Montreal</td>\n",
       "      <td>H2T 9K8</td>\n",
       "      <td>Male</td>\n",
       "      <td>College</td>\n",
       "      <td>NaN</td>\n",
       "      <td>Single</td>\n",
       "      <td>Nova</td>\n",
       "      <td>4031.54</td>\n",
       "      <td>Standard</td>\n",
       "      <td>2012</td>\n",
       "      <td>12</td>\n",
       "      <td>&lt;NA&gt;</td>\n",
       "      <td>&lt;NA&gt;</td>\n",
       "    </tr>\n",
       "    <tr>\n",
       "      <th>11180</th>\n",
       "      <td>351551</td>\n",
       "      <td>Canada</td>\n",
       "      <td>Ontario</td>\n",
       "      <td>London</td>\n",
       "      <td>M5B 3E4</td>\n",
       "      <td>Female</td>\n",
       "      <td>College</td>\n",
       "      <td>NaN</td>\n",
       "      <td>Single</td>\n",
       "      <td>Star</td>\n",
       "      <td>4034.93</td>\n",
       "      <td>2018 Promotion</td>\n",
       "      <td>2018</td>\n",
       "      <td>2</td>\n",
       "      <td>&lt;NA&gt;</td>\n",
       "      <td>&lt;NA&gt;</td>\n",
       "    </tr>\n",
       "  </tbody>\n",
       "</table>\n",
       "</div>"
      ],
      "text/plain": [
       "       Loyalty Number Country  Province         City Postal Code  Gender  \\\n",
       "8713           264733  Canada    Quebec     Montreal     H4G 3T4    Male   \n",
       "14137          778030  Canada  Manitoba     Winnipeg     R6Y 4T5  Female   \n",
       "3289           728386  Canada    Quebec  Quebec City     G1B 3L5    Male   \n",
       "5580           219043  Canada    Quebec     Montreal     H2T 9K8    Male   \n",
       "11180          351551  Canada   Ontario       London     M5B 3E4  Female   \n",
       "\n",
       "      Education  Salary Marital Status Loyalty Card       CLV Enrollment Type  \\\n",
       "8713    College     NaN         Single         Nova  10242.41        Standard   \n",
       "14137   College     NaN         Single         Star   6227.37        Standard   \n",
       "3289    College     NaN         Single       Aurora  11836.30        Standard   \n",
       "5580    College     NaN         Single         Nova   4031.54        Standard   \n",
       "11180   College     NaN         Single         Star   4034.93  2018 Promotion   \n",
       "\n",
       "       Enrollment Year  Enrollment Month  Cancellation Year  \\\n",
       "8713              2014                 4               <NA>   \n",
       "14137             2014                10               <NA>   \n",
       "3289              2018                10               <NA>   \n",
       "5580              2012                12               <NA>   \n",
       "11180             2018                 2               <NA>   \n",
       "\n",
       "       Cancellation Month  \n",
       "8713                 <NA>  \n",
       "14137                <NA>  \n",
       "3289                 <NA>  \n",
       "5580                 <NA>  \n",
       "11180                <NA>  "
      ]
     },
     "execution_count": 20,
     "metadata": {},
     "output_type": "execute_result"
    }
   ],
   "source": [
    "df_loyalty[df_loyalty['Salary'].isnull()].sample(5)"
   ]
  },
  {
   "cell_type": "code",
   "execution_count": 21,
   "metadata": {},
   "outputs": [],
   "source": [
    "df_loyalty['Salary Scale'] = pd.cut(df_loyalty['Salary'],bins = 3, labels= ['Low', 'Medium', 'High']) # SETTING CATEGORIES TO GROUP AND COMPARE"
   ]
  },
  {
   "cell_type": "code",
   "execution_count": 22,
   "metadata": {},
   "outputs": [],
   "source": [
    "df = df_flight.merge(df_loyalty, on= 'Loyalty Number', how= 'left')"
   ]
  },
  {
   "cell_type": "code",
   "execution_count": 23,
   "metadata": {},
   "outputs": [],
   "source": [
    "df.to_csv(\"../Files/full_data_clean.csv\", index=False)\n",
    "df_flight.to_csv(\"../Files/flight_clean.csv\", index=False)\n",
    "df_loyalty.to_csv(\"../Files/loyalty_clean.csv\", index=False)"
   ]
  }
 ],
 "metadata": {
  "kernelspec": {
   "display_name": "base",
   "language": "python",
   "name": "python3"
  },
  "language_info": {
   "codemirror_mode": {
    "name": "ipython",
    "version": 3
   },
   "file_extension": ".py",
   "mimetype": "text/x-python",
   "name": "python",
   "nbconvert_exporter": "python",
   "pygments_lexer": "ipython3",
   "version": "3.12.7"
  }
 },
 "nbformat": 4,
 "nbformat_minor": 2
}
